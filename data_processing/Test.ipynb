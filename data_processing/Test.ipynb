{
 "cells": [
  {
   "cell_type": "code",
   "execution_count": 5,
   "metadata": {},
   "outputs": [],
   "source": [
    "import os\n",
    "import sys\n",
    "import matplotlib.pyplot as plt\n",
    "import cv2\n",
    "import numpy as np\n",
    "import openpyxl"
   ]
  },
  {
   "cell_type": "markdown",
   "metadata": {},
   "source": [
    "FEATURE 2"
   ]
  },
  {
   "cell_type": "code",
   "execution_count": 9,
   "metadata": {},
   "outputs": [],
   "source": [
    "### Feature 2 - The ratio between the 2 longest orthogonal lines that can cross the bug (smallest divided by longuest)\n",
    "\n",
    "def orthogonal_lines_ratio(mask_dir):\n",
    "    contours, _ = cv2.findContours(mask_dir, cv2.RETR_EXTERNAL, cv2.CHAIN_APPROX_SIMPLE)\n",
    "    if len(contours) == 0:\n",
    "        return None\n",
    "    max_ratio = 0\n",
    "    for contour in contours:\n",
    "        rect = cv2.minAreaRect(contour)\n",
    "        box = cv2.boxPoints(rect)\n",
    "        box = np.intp(box)\n",
    "        side_lengths = [np.linalg.norm(box[i] - box[(i+1) % 4]) for i in range(4)]\n",
    "        side_lengths.sort(reverse=True)\n",
    "        if side_lengths[3] != 0:\n",
    "            ratio = side_lengths[2] / side_lengths[3]\n",
    "            if ratio > max_ratio:\n",
    "                max_ratio = ratio\n",
    "    return float(max_ratio)"
   ]
  }
 ],
 "metadata": {
  "kernelspec": {
   "display_name": "Python 3",
   "language": "python",
   "name": "python3"
  },
  "language_info": {
   "codemirror_mode": {
    "name": "ipython",
    "version": 3
   },
   "file_extension": ".py",
   "mimetype": "text/x-python",
   "name": "python",
   "nbconvert_exporter": "python",
   "pygments_lexer": "ipython3",
   "version": "3.9.6"
  }
 },
 "nbformat": 4,
 "nbformat_minor": 2
}
