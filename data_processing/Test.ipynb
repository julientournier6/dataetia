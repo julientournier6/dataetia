{
 "cells": [
  {
   "cell_type": "code",
   "execution_count": 17,
   "metadata": {},
   "outputs": [
    {
     "ename": "ImportError",
     "evalue": "cannot import name 'process_images' from 'orthogonal_lines_ratio' (/Users/noejalabert/Documents/GitHub/noe-test-fork/dataetia/data_processing/orthogonal_lines_ratio.py)",
     "output_type": "error",
     "traceback": [
      "\u001b[0;31m---------------------------------------------------------------------------\u001b[0m",
      "\u001b[0;31mImportError\u001b[0m                               Traceback (most recent call last)",
      "Cell \u001b[0;32mIn[17], line 12\u001b[0m\n\u001b[1;32m      9\u001b[0m sys\u001b[38;5;241m.\u001b[39mpath\u001b[38;5;241m.\u001b[39mappend(os\u001b[38;5;241m.\u001b[39mpath\u001b[38;5;241m.\u001b[39mabspath(\u001b[38;5;124m'\u001b[39m\u001b[38;5;124m.\u001b[39m\u001b[38;5;124m'\u001b[39m))\n\u001b[1;32m     11\u001b[0m \u001b[38;5;66;03m# Importer les fonctions depuis les scripts Python\u001b[39;00m\n\u001b[0;32m---> 12\u001b[0m \u001b[38;5;28;01mfrom\u001b[39;00m \u001b[38;5;21;01morthogonal_lines_ratio\u001b[39;00m \u001b[38;5;28;01mimport\u001b[39;00m find_longest_orthogonal_lines, process_images\n\u001b[1;32m     13\u001b[0m \u001b[38;5;66;03m# Fonction pour visualiser les résultats\u001b[39;00m\n\u001b[1;32m     14\u001b[0m \u001b[38;5;28;01mdef\u001b[39;00m \u001b[38;5;21mvisualize_results\u001b[39m(image, box, ratio, image_file):\n",
      "\u001b[0;31mImportError\u001b[0m: cannot import name 'process_images' from 'orthogonal_lines_ratio' (/Users/noejalabert/Documents/GitHub/noe-test-fork/dataetia/data_processing/orthogonal_lines_ratio.py)"
     ]
    }
   ],
   "source": [
    "import os\n",
    "import sys\n",
    "import matplotlib.pyplot as plt\n",
    "import cv2\n",
    "import numpy as np\n",
    "import openpyxl\n",
    "\n",
    "# Ajouter le chemin du dossier contenant les scripts Python\n",
    "sys.path.append(os.path.abspath('.'))\n",
    "\n",
    "# Importer les fonctions depuis les scripts Python\n",
    "from orthogonal_lines_ratio import find_longest_orthogonal_lines, process_images\n",
    "# Fonction pour visualiser les résultats\n",
    "def visualize_results(image, box, ratio, image_file):\n",
    "    plt.figure()\n",
    "    plt.imshow(cv2.cvtColor(image, cv2.COLOR_BGR2RGB))\n",
    "    plt.plot(box[:, 0], box[:, 1], 'r-', linewidth=2)\n",
    "    plt.title(f\"{image_file} - Ratio: {ratio:.2f}\")\n",
    "    plt.show()"
   ]
  },
  {
   "cell_type": "code",
   "execution_count": null,
   "metadata": {},
   "outputs": [
    {
     "ename": "NameError",
     "evalue": "name 'process_images' is not defined",
     "output_type": "error",
     "traceback": [
      "\u001b[0;31m---------------------------------------------------------------------------\u001b[0m",
      "\u001b[0;31mNameError\u001b[0m                                 Traceback (most recent call last)",
      "Cell \u001b[0;32mIn[5], line 8\u001b[0m\n\u001b[1;32m      5\u001b[0m excel_file \u001b[38;5;241m=\u001b[39m \u001b[38;5;124m'\u001b[39m\u001b[38;5;124m../train/classif.xlsx\u001b[39m\u001b[38;5;124m'\u001b[39m\n\u001b[1;32m      7\u001b[0m \u001b[38;5;66;03m# Traiter les images et obtenir les résultats\u001b[39;00m\n\u001b[0;32m----> 8\u001b[0m results \u001b[38;5;241m=\u001b[39m \u001b[43mprocess_images\u001b[49m(image_folder, mask_folder, output_file)\n",
      "\u001b[0;31mNameError\u001b[0m: name 'process_images' is not defined"
     ]
    }
   ],
   "source": [
    "# Définir les chemins\n",
    "image_folder = '../train/images_1_to_250'\n",
    "mask_folder = '../train/masks'\n",
    "output_file = 'ratios_orthogonal.csv'\n",
    "excel_file = '../train/classif.xlsx'\n",
    "\n",
    "# Traiter les images et obtenir les résultats\n",
    "results = process_images(image_folder, mask_folder, output_file)"
   ]
  },
  {
   "cell_type": "code",
   "execution_count": null,
   "metadata": {},
   "outputs": [],
   "source": [
    "# Prendre le résultat de la première image\n",
    "if results:\n",
    "    first_result = results[0]\n",
    "    image_file, ratio, box, image = first_result\n",
    "    \n",
    "    # Visualiser le résultat pour la première image\n",
    "    visualize_results(image, box, ratio, image_file)\n",
    "\n",
    "    # Charger le fichier Excel\n",
    "    workbook = openpyxl.load_workbook(excel_file)\n",
    "    sheet = workbook.active\n",
    "\n",
    "    # Ajouter les résultats dans le fichier Excel\n",
    "    new_row = [image_file, ratio]\n",
    "    sheet.append(new_row)\n",
    "\n",
    "    # Sauvegarder les modifications dans le fichier Excel\n",
    "    workbook.save(excel_file)\n",
    "    print(f\"Results for {image_file} saved to {excel_file}\")\n",
    "else:\n",
    "    print(\"No valid results to save.\")"
   ]
  }
 ],
 "metadata": {
  "kernelspec": {
   "display_name": "Python 3",
   "language": "python",
   "name": "python3"
  },
  "language_info": {
   "codemirror_mode": {
    "name": "ipython",
    "version": 3
   },
   "file_extension": ".py",
   "mimetype": "text/x-python",
   "name": "python",
   "nbconvert_exporter": "python",
   "pygments_lexer": "ipython3",
   "version": "3.9.6"
  }
 },
 "nbformat": 4,
 "nbformat_minor": 2
}
