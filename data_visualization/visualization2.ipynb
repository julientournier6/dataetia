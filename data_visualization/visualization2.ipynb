{
 "cells": [
  {
   "cell_type": "code",
   "execution_count": null,
   "metadata": {},
   "outputs": [],
   "source": [
    "import pandas as pd\n",
    "import matplotlib.pyplot as plt\n",
    "import seaborn as sns\n",
    "import os"
   ]
  },
  {
   "cell_type": "code",
   "execution_count": null,
   "metadata": {},
   "outputs": [],
   "source": [
    "# Load the data from the Excel file\n",
    "data = pd.read_excel('../classif.xlsx')\n",
    "\n",
    "# Display the first few rows of the dataframe to understand its structure\n",
    "print(data.head())"
   ]
  },
  {
   "cell_type": "code",
   "execution_count": null,
   "metadata": {},
   "outputs": [],
   "source": [
    "# Example 1: Bar Chart for Bug Type Distribution\n",
    "plt.figure(figsize=(10, 6))\n",
    "sns.countplot(x='bug type', data=data)\n",
    "plt.title('Distribution of Bug Types')\n",
    "plt.xlabel('Bug Type')\n",
    "plt.ylabel('Count')\n",
    "plt.xticks(rotation=45)  # Rotating the x labels for better readability\n",
    "plt.show()\n",
    "\n"
   ]
  },
  {
   "cell_type": "code",
   "execution_count": null,
   "metadata": {},
   "outputs": [],
   "source": [
    "#Pie Chart for Species Distribution\n",
    "# Calculate species counts\n",
    "species_counts = data['species'].value_counts()\n",
    "\n",
    "# Calculate 5% of the total\n",
    "total = species_counts.sum()\n",
    "five_percent = total * 0.05"
   ]
  },
  {
   "cell_type": "code",
   "execution_count": null,
   "metadata": {},
   "outputs": [],
   "source": [
    "# Filter species by 5% threshold and group others as 'Other'\n",
    "filtered_species_counts = species_counts[species_counts >= five_percent]\n",
    "other_species_count = species_counts[species_counts < five_percent].sum()\n",
    "\n",
    "# If there are any species in the 'Other' category, add it\n",
    "if other_species_count > 0:\n",
    "    filtered_species_counts['Other'] = other_species_count\n"
   ]
  },
  {
   "cell_type": "code",
   "execution_count": null,
   "metadata": {},
   "outputs": [],
   "source": [
    "# Pie Chart for Species Distribution with 'Other' category\n",
    "plt.figure(figsize=(8, 8))\n",
    "plt.pie(filtered_species_counts, labels=filtered_species_counts.index, autopct='%1.1f%%', startangle=90)\n",
    "plt.title('Distribution of Species (with >5% representation)')\n",
    "plt.show()\n"
   ]
  }
 ],
 "metadata": {
  "language_info": {
   "name": "python"
  }
 },
 "nbformat": 4,
 "nbformat_minor": 2
}
